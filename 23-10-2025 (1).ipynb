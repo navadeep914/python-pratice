{
 "cells": [
  {
   "cell_type": "code",
   "execution_count": 1,
   "id": "6cd242c5-c233-4a0f-be85-972235dc3087",
   "metadata": {},
   "outputs": [
    {
     "ename": "SyntaxError",
     "evalue": "invalid syntax (393253744.py, line 1)",
     "output_type": "error",
     "traceback": [
      "\u001b[1;36m  Cell \u001b[1;32mIn[1], line 1\u001b[1;36m\u001b[0m\n\u001b[1;33m    list is a data structure in python\u001b[0m\n\u001b[1;37m              ^\u001b[0m\n\u001b[1;31mSyntaxError\u001b[0m\u001b[1;31m:\u001b[0m invalid syntax\n"
     ]
    }
   ],
   "source": [
    "list is a data structure in python\n",
    "list is mutable and it allows duplicate values\n",
    "append() method is used to append the value to existing list"
   ]
  },
  {
   "cell_type": "code",
   "execution_count": 2,
   "id": "0ddde4ea-a881-40ac-a529-09c9a9d35b48",
   "metadata": {},
   "outputs": [
    {
     "name": "stdout",
     "output_type": "stream",
     "text": [
      "[2, 4, 5, 6, 7, 8, 4]\n",
      "[1, 3, 24, 5, 6, 7]\n"
     ]
    }
   ],
   "source": [
    "a= [2,4,5,6,7,8,4]\n",
    "b= [1,3,24,5,6,7]\n",
    "print(a)\n",
    "print(b)"
   ]
  },
  {
   "cell_type": "code",
   "execution_count": 4,
   "id": "104ae387-04b9-4b7f-ae16-3bf1382b6eb4",
   "metadata": {},
   "outputs": [
    {
     "name": "stdout",
     "output_type": "stream",
     "text": [
      "[2, 4, [1, 3, 24, 5, 6, 7], [1, 3, 24, 5, 6, 7], 5, 6, 7, 8, 4]\n",
      "[1, 3, 24, 5, 6, 7]\n"
     ]
    }
   ],
   "source": [
    "a.insert(2,b)\n",
    "print(a)\n",
    "print(a[2])"
   ]
  },
  {
   "cell_type": "code",
   "execution_count": 6,
   "id": "29fe20fe-a7c6-4c7b-aae6-9a0dff168ec9",
   "metadata": {},
   "outputs": [
    {
     "name": "stdout",
     "output_type": "stream",
     "text": [
      "[10, 20, 30]\n",
      "[10, 20, 30, 90]\n"
     ]
    }
   ],
   "source": [
    "a = [10, 20, 30]\n",
    "print(a)\n",
    "a.append(90)\n",
    "print(a)\n"
   ]
  },
  {
   "cell_type": "code",
   "execution_count": 7,
   "id": "bb8435ec-d420-4cda-a752-7a93994af7bb",
   "metadata": {},
   "outputs": [
    {
     "name": "stdout",
     "output_type": "stream",
     "text": [
      "[10, 20, 30, 90, 2]\n"
     ]
    }
   ],
   "source": [
    "a.append(2)\n",
    "print(a)"
   ]
  },
  {
   "cell_type": "code",
   "execution_count": 9,
   "id": "b10306d5-633a-476d-91b5-309c25e12a2e",
   "metadata": {},
   "outputs": [
    {
     "name": "stdout",
     "output_type": "stream",
     "text": [
      "[34, 35, 67, 89, 34]\n",
      "[34, 35, 67, 89, 34]\n",
      "[34, 35, 67, 89, 34]\n",
      "[34, 35, 67, 89, 34, 100]\n"
     ]
    }
   ],
   "source": [
    "list = [34, 35, 67, 89, 34]\n",
    "list1 = list.copy()\n",
    "print(list)\n",
    "print(list1)\n",
    "list1.append(100)\n",
    "print(list)\n",
    "print(list1)\n"
   ]
  },
  {
   "cell_type": "code",
   "execution_count": 11,
   "id": "a8d0834b-fdb5-4ad5-b644-fa0955fef3a9",
   "metadata": {},
   "outputs": [
    {
     "name": "stdout",
     "output_type": "stream",
     "text": [
      "6 78 4 "
     ]
    }
   ],
   "source": [
    "a=[23,45,6,78,4,23]\n",
    "for i in a:\n",
    "    if i%2==0:\n",
    "        print(i,end=\" \")"
   ]
  },
  {
   "cell_type": "code",
   "execution_count": null,
   "id": "3fa2e592-df1a-42c8-8f54-ac67b95d6426",
   "metadata": {},
   "outputs": [],
   "source": [
    "#write a program to print prime number in a given list\n",
    "#write a program to ptint second max element in a given list\n"
   ]
  },
  {
   "cell_type": "code",
   "execution_count": 12,
   "id": "79cc504d-a154-4628-9b3b-92de47218686",
   "metadata": {},
   "outputs": [
    {
     "name": "stdout",
     "output_type": "stream",
     "text": [
      "Prime numbers in the list are:\n",
      "3\n",
      "7\n",
      "13\n",
      "17\n",
      "23\n"
     ]
    }
   ],
   "source": [
    "def is_prime(num):\n",
    "    if num < 2:\n",
    "        return False\n",
    "    for i in range(2, int(num**0.5) + 1):\n",
    "        if num % i == 0:\n",
    "            return False\n",
    "    return True\n",
    "numbers = [3, 4, 7, 10, 13, 17, 20, 23]\n",
    "print(\"Prime numbers in the list are:\")\n",
    "for n in numbers:\n",
    "    if is_prime(n):\n",
    "        print(n)\n"
   ]
  },
  {
   "cell_type": "code",
   "execution_count": 16,
   "id": "3e66452d-f8ed-4521-a644-aea929fbecb7",
   "metadata": {},
   "outputs": [
    {
     "name": "stdout",
     "output_type": "stream",
     "text": [
      "67 11 13 17 "
     ]
    }
   ],
   "source": [
    "list=[34,56,67,78,32,90,11,13,17]\n",
    "fact=0\n",
    "for i in list:\n",
    "    fact=0\n",
    "    for j in range(1, (i+1)):\n",
    "        if i%j==0:\n",
    "            fact=fact+1\n",
    "    if fact==2:\n",
    "        print(i, end=\" \")"
   ]
  },
  {
   "cell_type": "code",
   "execution_count": 17,
   "id": "9c809a95-2cca-4d1c-8fc9-2035915c42c7",
   "metadata": {},
   "outputs": [
    {
     "name": "stdout",
     "output_type": "stream",
     "text": [
      "78\n"
     ]
    }
   ],
   "source": [
    "list=[34,56,67,78,32,90,11,13,17]\n",
    "list.sort(reverse=True)\n",
    "print(list[1])"
   ]
  },
  {
   "cell_type": "code",
   "execution_count": 19,
   "id": "ee9edc19-56c3-4a5a-b037-692ce4b52915",
   "metadata": {},
   "outputs": [
    {
     "name": "stdout",
     "output_type": "stream",
     "text": [
      "Hi12:\n",
      "  alphabets:2\n",
      "  digits:2\n",
      "  special chars:0\n",
      "Hello$:\n",
      "  alphabets:5\n",
      "  digits:0\n",
      "  special chars:1\n",
      "This@:\n",
      "  alphabets:4\n",
      "  digits:0\n",
      "  special chars:1\n",
      "is:\n",
      "  alphabets:2\n",
      "  digits:0\n",
      "  special chars:0\n",
      "Nagu17:\n",
      "  alphabets:4\n",
      "  digits:2\n",
      "  special chars:0\n"
     ]
    }
   ],
   "source": [
    "# Program to find number of alphabets, digits, and special characters in each word\n",
    "\n",
    "# Input\n",
    "sentence = \"Hi12 Hello$ This@ is Nagu17\"\n",
    "\n",
    "# Split the sentence into words\n",
    "words = sentence.split()\n",
    "\n",
    "# Process each word\n",
    "for word in words:\n",
    "    alphabets = digits = special = 0\n",
    "\n",
    "    for ch in word:\n",
    "        if ch.isalpha():\n",
    "            alphabets += 1\n",
    "        elif ch.isdigit():\n",
    "            digits += 1\n",
    "        else:\n",
    "            special += 1\n",
    "\n",
    "    # Output for each word\n",
    "    print(f\"{word}:\")\n",
    "    print(f\"  alphabets:{alphabets}\")\n",
    "    print(f\"  digits:{digits}\")\n",
    "    print(f\"  special chars:{special}\")"
   ]
  },
  {
   "cell_type": "code",
   "execution_count": 20,
   "id": "37a8cea4-bab0-42f8-aec1-13bbd6d9be73",
   "metadata": {},
   "outputs": [
    {
     "name": "stdout",
     "output_type": "stream",
     "text": [
      "(13, 6, 56, 85, 95, 45)\n",
      "6\n",
      "Max: 95\n",
      "Min: 6\n",
      "Total:  300\n",
      "No.of values : 6\n"
     ]
    },
    {
     "data": {
      "text/plain": [
       "(45, 95, 85, 56, 6, 13)"
      ]
     },
     "execution_count": 20,
     "metadata": {},
     "output_type": "execute_result"
    }
   ],
   "source": [
    "a=(13,6,56,85,95,45)\n",
    "print(a)\n",
    "print(a[1])\n",
    "print(\"Max:\", max(a))\n",
    "print(\"Min:\", min(a)) \n",
    "print(\"Total: \",sum(a))\n",
    "print(\"No.of values :\",len(a));\n",
    "a[:]\n",
    "a[2:]\n",
    "a[::5]\n",
    "a[-1]\n",
    "a[::]\n",
    "a[::-1]"
   ]
  },
  {
   "cell_type": "code",
   "execution_count": null,
   "id": "7bab9972-09e2-4e9f-b34e-bd662b65d380",
   "metadata": {},
   "outputs": [],
   "source": [
    "1. List is mutable and Tuple is immutable List [23,66,77] 23 99 77\n",
    "\n",
    "List[1]-99\n",
    "\n",
    "tuple (23,66,77)\n",
    "\n",
    "99> Throws an error tuple[1]-99\n",
    "\n",
    "2.Both data structures will allows duplicate values and follows Indexing order.\n",
    "\n",
    "Type casting:\n",
    "\n",
    "t-(23,12,33,44)\n",
    "\n",
    "1-list(t) #tuple will be converted into list\n",
    "\n",
    "1-[11,99,33,53,66]\n",
    "\n",
    "t-tuple(1) #List will be convert into tuple."
   ]
  },
  {
   "cell_type": "code",
   "execution_count": null,
   "id": "7169d39e-584b-4720-9d08-bf105142cbcd",
   "metadata": {},
   "outputs": [],
   "source": [
    "# Differences Between List and Tuple in Python\n",
    "\n",
    "1. *Mutability*\n",
    "   - *List* is mutable: you can change its elements.\n",
    "     python\n",
    "     my_list = [23, 66, 77]\n",
    "     my_list[1] = 99  # [23, 99, 77]\n",
    "     \n",
    "   - *Tuple* is immutable: you cannot change its elements.\n",
    "     python\n",
    "     my_tuple = (23, 66, 77)\n",
    "     my_tuple[1] = 99  # Throws an error\n",
    "     \n",
    "\n",
    "2. *Duplicates and Indexing*\n",
    "   - Both *List* and *Tuple* allow duplicate values and maintain the order of elements.\n",
    "\n",
    "3. *Type Casting*\n",
    "   - Converting a tuple to a list:\n",
    "     python\n",
    "     t = (23, 12, 33, 44)\n",
    "     lst = list(t)  # [23, 12, 33, 44]\n",
    "     \n",
    "   - Converting a list to a tuple:\n",
    "     python\n",
    "     l = [11, 99, 33, 53, 66]\n",
    "     t = tuple(l)  # (11, 99, 33, 53, 66)\n",
    "     \n",
    "It is unordered data structure till python 3.6 version , from 3.7 it is ordered and mutable"
   ]
  },
  {
   "cell_type": "code",
   "execution_count": 21,
   "id": "95383971-77d5-48f4-9425-afdf8c9d1fe2",
   "metadata": {},
   "outputs": [
    {
     "name": "stdout",
     "output_type": "stream",
     "text": [
      "Ram\n",
      "{12: 'Venkatesh', 34: 'Pavan', 56: 'Suhel'}\n",
      "dict_keys([12, 34, 56])\n",
      "dict_values(['Venkatesh', 'Pavan', 'Suhel'])\n",
      "dict_items([(12, 'Venkatesh'), (34, 'Pavan'), (56, 'Suhel')])\n"
     ]
    }
   ],
   "source": [
    "dict={12: 'Ram', 34: 'Pavan', 56: 'Suhel'}\n",
    "\n",
    "print(dict.get(12))\n",
    "\n",
    "dict[12]='Venkatesh'\n",
    "\n",
    "print(dict)\n",
    "\n",
    "print(dict.keys()) #Display all the keys of Dict\n",
    "\n",
    "print(dict.values()) # Display all the values of Dict\n",
    "\n",
    "print(dict.items())\n",
    "\n",
    "#Display all the keys & values of Dict\n"
   ]
  },
  {
   "cell_type": "code",
   "execution_count": null,
   "id": "acc17bdd-11a7-4383-8441-af515b69381c",
   "metadata": {},
   "outputs": [],
   "source": []
  }
 ],
 "metadata": {
  "kernelspec": {
   "display_name": "Python 3 (ipykernel)",
   "language": "python",
   "name": "python3"
  },
  "language_info": {
   "codemirror_mode": {
    "name": "ipython",
    "version": 3
   },
   "file_extension": ".py",
   "mimetype": "text/x-python",
   "name": "python",
   "nbconvert_exporter": "python",
   "pygments_lexer": "ipython3",
   "version": "3.13.5"
  }
 },
 "nbformat": 4,
 "nbformat_minor": 5
}
