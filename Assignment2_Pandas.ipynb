{
 "cells": [
  {
   "cell_type": "markdown",
   "id": "8c3458a5-e655-4f3e-b5b7-917b025d9486",
   "metadata": {
    "jp-MarkdownHeadingCollapsed": true
   },
   "source": [
    "## Assignment: Pandas Hands-on Practice — Store Sales Analysis\n",
    "-📘 Dataset Overview\n",
    "\n",
    "- You are provided with a dataset containing monthly sales from 100 stores across three states: California, Texas, and Arizona.\n",
    "Each store has four months of sales data — January, February, March, and April.\n",
    "\n",
    "-📊 Columns:\n",
    "- Column\tDescription\n",
    "store_id\tUnique ID for each store\n",
    "city\tCity/State where the store is located\n",
    "Jan, Feb, Mar, Apr\tMonthly sales data (numeric values)"
   ]
  },
  {
   "cell_type": "markdown",
   "id": "e13e8621-137d-4242-8be0-12e840ed2ba8",
   "metadata": {},
   "source": [
    "## 🎯 Objective\n",
    "\n",
    "You need to perform data analysis using Pandas to:\n",
    "\n",
    "- Understand sales performance per store and per city.\n",
    "\n",
    "- Apply aggregate functions and grouping.\n",
    "\n",
    "- Generate insights from trends and comparisons."
   ]
  },
  {
   "cell_type": "markdown",
   "id": "2917f908-ec0b-45f8-8ac2-71622cfd3f20",
   "metadata": {},
   "source": [
    "## 🧩 Part 1 — Basic Exploration (10 Marks)\n",
    "\n",
    "- Load the dataset into a Pandas DataFrame.\n",
    "\n",
    "- Display the first and last 5 rows.\n",
    "\n",
    "- Check shape, data types, and non-null counts.\n",
    "\n",
    "- Print column names and summary statistics for all numeric columns.\n",
    "\n",
    "- Find the total and average sales for each month (Jan–Apr).\n",
    "\n",
    "- Calculate total yearly sales for all stores combined."
   ]
  },
  {
   "cell_type": "markdown",
   "id": "9306c287-3f77-4daa-b952-3238ffb830f8",
   "metadata": {},
   "source": [
    "## 📊 Part 2 — City-wise Analysis (15 Marks)\n",
    "\n",
    "- Find total sales for each city in each month using groupby().\n",
    "\n",
    "- Find the average monthly sales per city.\n",
    "\n",
    "- Identify:\n",
    "\n",
    "- The city with the highest average sales.\n",
    "\n",
    "- The city with the lowest total sales.\n",
    "\n",
    "- Add a new column Total_Sales = Jan + Feb + Mar + Apr.\n",
    "\n",
    "- Find the top 3 performing cities based on Total_Sales."
   ]
  },
  {
   "cell_type": "markdown",
   "id": "60527f8a-2bbf-4ad7-a36a-52873b5e325f",
   "metadata": {},
   "source": [
    "## 🏪 Part 3 — Store-level Insights (15 Marks)\n",
    "\n",
    "- Display the top 5 stores with the highest Total_Sales.\n",
    "\n",
    "- Display the bottom 5 stores with the lowest Total_Sales.\n",
    "\n",
    "- Identify:\n",
    "\n",
    "- The store with maximum sales in March.\n",
    "\n",
    "- The store with minimum sales in April.\n",
    "\n",
    "- Find how many stores in each city have average monthly sales > 15.\n",
    "\n",
    "- Filter stores from California that had sales > 20 in any month."
   ]
  },
  {
   "cell_type": "markdown",
   "id": "111b18c4-8b90-4182-adce-67ada60a84a4",
   "metadata": {},
   "source": [
    "## 🧮 Part 4 — Aggregation and Analysis (20 Marks)\n",
    "\n",
    "- Using groupby(\"city\"), compute:\n",
    "\n",
    "- Mean, Max, and Min for each month.\n",
    "\n",
    "- Find the city with the highest average March sales.\n",
    "\n",
    "- Calculate the overall average sales per city (across all months).\n",
    "\n",
    "- Identify the month with the highest overall sales.\n",
    "\n",
    "- For each city, find the month with maximum total sales.\n",
    "\n",
    "- Add a column Average_Sales (average of all months per store).\n",
    "- Sort the dataset by this column in descending order."
   ]
  },
  {
   "cell_type": "markdown",
   "id": "020aba22-9aa4-4869-92f6-34a864e51360",
   "metadata": {},
   "source": [
    "## 📈 Part 5 — Visualization Tasks (15 Marks)\n",
    "\n",
    "- Plot a bar chart showing total sales by city.\n",
    "\n",
    "- Plot a line chart showing average monthly sales across all stores.\n",
    "\n",
    "- Plot a pie chart showing the share of each city in total yearly sales.\n",
    "\n",
    "- Plot a horizontal bar chart of the top 10 stores based on total sales.\n",
    "\n",
    "- Create a boxplot to compare monthly sales distribution by city."
   ]
  },
  {
   "cell_type": "markdown",
   "id": "8a33f8df-9194-4592-9ad2-421f92e8ee57",
   "metadata": {},
   "source": [
    "## 💾 Submission Guidelines\n",
    "\n",
    "- Submit your work as a Jupyter Notebook (.ipynb) file.\n",
    "\n",
    "- Include:\n",
    "\n",
    "- Proper headings and comments.\n",
    "\n",
    "- Answers written in Markdown cells.\n",
    "\n",
    "- All visualizations properly titled and labeled."
   ]
  },
  {
   "cell_type": "markdown",
   "id": "e657a78d-c589-4882-a79c-a4fda3474365",
   "metadata": {},
   "source": [
    "# Basic Exploration"
   ]
  },
  {
   "cell_type": "code",
   "execution_count": 27,
   "id": "ea4892da-c8fa-4647-beee-584bddccef07",
   "metadata": {},
   "outputs": [],
   "source": [
    "import pandas as pd\n",
    "sales_df = pd.read_csv(\"Store.csv\")"
   ]
  },
  {
   "cell_type": "code",
   "execution_count": 28,
   "id": "3d6bf60b-fcc2-43c6-918e-5ecc66ab3661",
   "metadata": {},
   "outputs": [
    {
     "data": {
      "text/html": [
       "<div>\n",
       "<style scoped>\n",
       "    .dataframe tbody tr th:only-of-type {\n",
       "        vertical-align: middle;\n",
       "    }\n",
       "\n",
       "    .dataframe tbody tr th {\n",
       "        vertical-align: top;\n",
       "    }\n",
       "\n",
       "    .dataframe thead th {\n",
       "        text-align: right;\n",
       "    }\n",
       "</style>\n",
       "<table border=\"1\" class=\"dataframe\">\n",
       "  <thead>\n",
       "    <tr style=\"text-align: right;\">\n",
       "      <th></th>\n",
       "      <th>store_id</th>\n",
       "      <th>city</th>\n",
       "      <th>Jan</th>\n",
       "      <th>Feb</th>\n",
       "      <th>Mar</th>\n",
       "      <th>Apr</th>\n",
       "      <th>May</th>\n",
       "      <th>Jun</th>\n",
       "      <th>July</th>\n",
       "      <th>Aug</th>\n",
       "      <th>Sep</th>\n",
       "      <th>Oct</th>\n",
       "      <th>Nov</th>\n",
       "      <th>Dec</th>\n",
       "    </tr>\n",
       "  </thead>\n",
       "  <tbody>\n",
       "    <tr>\n",
       "      <th>95</th>\n",
       "      <td>S_96</td>\n",
       "      <td>Texas</td>\n",
       "      <td>7</td>\n",
       "      <td>10</td>\n",
       "      <td>20</td>\n",
       "      <td>20</td>\n",
       "      <td>10</td>\n",
       "      <td>15</td>\n",
       "      <td>15</td>\n",
       "      <td>21</td>\n",
       "      <td>15</td>\n",
       "      <td>7</td>\n",
       "      <td>23</td>\n",
       "      <td>22</td>\n",
       "    </tr>\n",
       "    <tr>\n",
       "      <th>96</th>\n",
       "      <td>S_97</td>\n",
       "      <td>California</td>\n",
       "      <td>13</td>\n",
       "      <td>6</td>\n",
       "      <td>7</td>\n",
       "      <td>15</td>\n",
       "      <td>22</td>\n",
       "      <td>10</td>\n",
       "      <td>21</td>\n",
       "      <td>23</td>\n",
       "      <td>10</td>\n",
       "      <td>6</td>\n",
       "      <td>12</td>\n",
       "      <td>9</td>\n",
       "    </tr>\n",
       "    <tr>\n",
       "      <th>97</th>\n",
       "      <td>S_98</td>\n",
       "      <td>Texas</td>\n",
       "      <td>16</td>\n",
       "      <td>9</td>\n",
       "      <td>6</td>\n",
       "      <td>14</td>\n",
       "      <td>20</td>\n",
       "      <td>13</td>\n",
       "      <td>11</td>\n",
       "      <td>10</td>\n",
       "      <td>8</td>\n",
       "      <td>22</td>\n",
       "      <td>17</td>\n",
       "      <td>22</td>\n",
       "    </tr>\n",
       "    <tr>\n",
       "      <th>98</th>\n",
       "      <td>S_99</td>\n",
       "      <td>Arizona</td>\n",
       "      <td>18</td>\n",
       "      <td>16</td>\n",
       "      <td>9</td>\n",
       "      <td>5</td>\n",
       "      <td>12</td>\n",
       "      <td>22</td>\n",
       "      <td>11</td>\n",
       "      <td>13</td>\n",
       "      <td>21</td>\n",
       "      <td>17</td>\n",
       "      <td>19</td>\n",
       "      <td>10</td>\n",
       "    </tr>\n",
       "    <tr>\n",
       "      <th>99</th>\n",
       "      <td>S_100</td>\n",
       "      <td>California</td>\n",
       "      <td>5</td>\n",
       "      <td>23</td>\n",
       "      <td>17</td>\n",
       "      <td>24</td>\n",
       "      <td>15</td>\n",
       "      <td>21</td>\n",
       "      <td>19</td>\n",
       "      <td>10</td>\n",
       "      <td>12</td>\n",
       "      <td>20</td>\n",
       "      <td>5</td>\n",
       "      <td>9</td>\n",
       "    </tr>\n",
       "  </tbody>\n",
       "</table>\n",
       "</div>"
      ],
      "text/plain": [
       "   store_id        city  Jan  Feb  Mar  Apr  May  Jun  July  Aug  Sep  Oct  \\\n",
       "95     S_96       Texas    7   10   20   20   10   15    15   21   15    7   \n",
       "96     S_97  California   13    6    7   15   22   10    21   23   10    6   \n",
       "97     S_98       Texas   16    9    6   14   20   13    11   10    8   22   \n",
       "98     S_99     Arizona   18   16    9    5   12   22    11   13   21   17   \n",
       "99    S_100  California    5   23   17   24   15   21    19   10   12   20   \n",
       "\n",
       "    Nov  Dec  \n",
       "95   23   22  \n",
       "96   12    9  \n",
       "97   17   22  \n",
       "98   19   10  \n",
       "99    5    9  "
      ]
     },
     "execution_count": 28,
     "metadata": {},
     "output_type": "execute_result"
    }
   ],
   "source": [
    "# displaying the first and last 5 rows\n",
    "sales_df.head()  \n",
    "sales_df.tail()"
   ]
  },
  {
   "cell_type": "code",
   "execution_count": 29,
   "id": "6a4ba7d0-e27f-4537-a254-7755653681d8",
   "metadata": {},
   "outputs": [
    {
     "name": "stdout",
     "output_type": "stream",
     "text": [
      "Shape: (100, 14)\n",
      "Data types and info:\n",
      "<class 'pandas.core.frame.DataFrame'>\n",
      "RangeIndex: 100 entries, 0 to 99\n",
      "Data columns (total 14 columns):\n",
      " #   Column    Non-Null Count  Dtype \n",
      "---  ------    --------------  ----- \n",
      " 0   store_id  100 non-null    object\n",
      " 1   city      100 non-null    object\n",
      " 2   Jan       100 non-null    int64 \n",
      " 3   Feb       100 non-null    int64 \n",
      " 4   Mar       100 non-null    int64 \n",
      " 5   Apr       100 non-null    int64 \n",
      " 6   May       100 non-null    int64 \n",
      " 7   Jun       100 non-null    int64 \n",
      " 8   July      100 non-null    int64 \n",
      " 9   Aug       100 non-null    int64 \n",
      " 10  Sep       100 non-null    int64 \n",
      " 11  Oct       100 non-null    int64 \n",
      " 12  Nov       100 non-null    int64 \n",
      " 13  Dec       100 non-null    int64 \n",
      "dtypes: int64(12), object(2)\n",
      "memory usage: 11.1+ KB\n",
      "None\n"
     ]
    }
   ],
   "source": [
    "# Checking Shape, data types, non-null counts\n",
    "print(\"Shape:\", sales_df.shape)\n",
    "print(\"Data types and info:\")\n",
    "print(sales_df.info())"
   ]
  },
  {
   "cell_type": "code",
   "execution_count": 30,
   "id": "cd728ef3-2b8f-4bc3-9636-35cd19594faa",
   "metadata": {},
   "outputs": [
    {
     "name": "stdout",
     "output_type": "stream",
     "text": [
      "Columns: Index(['store_id', 'city', 'Jan', 'Feb', 'Mar', 'Apr', 'May', 'Jun', 'July',\n",
      "       'Aug', 'Sep', 'Oct', 'Nov', 'Dec'],\n",
      "      dtype='object')\n",
      "Summary statistics:\n",
      "               Jan         Feb         Mar         Apr         May         Jun  \\\n",
      "count  100.000000  100.000000  100.000000  100.000000  100.000000  100.000000   \n",
      "mean    14.460000   15.090000   14.560000   14.570000   13.560000   13.800000   \n",
      "std      5.712683    6.055459    5.782803    4.965039    5.883241    5.962848   \n",
      "min      5.000000    5.000000    5.000000    5.000000    5.000000    5.000000   \n",
      "25%     10.000000    9.000000    9.750000   11.000000    8.000000    9.000000   \n",
      "50%     15.000000   16.000000   15.000000   14.500000   13.000000   13.500000   \n",
      "75%     19.000000   21.000000   19.250000   19.000000   19.000000   19.000000   \n",
      "max     24.000000   24.000000   24.000000   24.000000   24.000000   24.000000   \n",
      "\n",
      "             July         Aug         Sep        Oct         Nov         Dec  \n",
      "count  100.000000  100.000000  100.000000  100.00000  100.000000  100.000000  \n",
      "mean    14.380000   15.810000   14.910000   14.10000   15.310000   13.570000  \n",
      "std      5.566458    6.152432    5.284043    5.87496    6.461533    5.852143  \n",
      "min      5.000000    5.000000    5.000000    5.00000    5.000000    5.000000  \n",
      "25%     10.000000   11.000000   11.000000    9.00000   10.000000    8.000000  \n",
      "50%     15.000000   17.000000   14.500000   14.00000   16.000000   13.000000  \n",
      "75%     19.000000   21.000000   19.000000   19.00000   21.250000   19.000000  \n",
      "max     24.000000   24.000000   24.000000   24.00000   24.000000   24.000000  \n"
     ]
    }
   ],
   "source": [
    "# Printing Column names and summary statistics\n",
    "print(\"Columns:\", sales_df.columns)\n",
    "print(\"Summary statistics:\\n\", sales_df.describe())"
   ]
  },
  {
   "cell_type": "code",
   "execution_count": 31,
   "id": "833e5d76-ff10-45c3-905c-116076fc6737",
   "metadata": {},
   "outputs": [
    {
     "name": "stdout",
     "output_type": "stream",
     "text": [
      "Total sales per month:\n",
      " Jan    1446\n",
      "Feb    1509\n",
      "Mar    1456\n",
      "Apr    1457\n",
      "dtype: int64\n",
      "Average sales per month:\n",
      " Jan    14.46\n",
      "Feb    15.09\n",
      "Mar    14.56\n",
      "Apr    14.57\n",
      "dtype: float64\n"
     ]
    }
   ],
   "source": [
    "# Finding Total and average sales per month\n",
    "months = ['Jan','Feb','Mar','Apr']\n",
    "print(\"Total sales per month:\\n\", sales_df[months].sum())\n",
    "print(\"Average sales per month:\\n\", sales_df[months].mean())"
   ]
  },
  {
   "cell_type": "code",
   "execution_count": 32,
   "id": "17b48a85-71f1-40d6-9759-c75456c5c3c6",
   "metadata": {},
   "outputs": [
    {
     "name": "stdout",
     "output_type": "stream",
     "text": [
      "Total yearly sales for all stores: 5868\n"
     ]
    }
   ],
   "source": [
    "# Calculating Total yearly sales for all stores\n",
    "sales_df['Total_Yearly_Sales'] = sales_df[months].sum(axis=1)\n",
    "print(\"Total yearly sales for all stores:\", sales_df['Total_Yearly_Sales'].sum())"
   ]
  },
  {
   "cell_type": "markdown",
   "id": "813db852-9ed2-4365-a870-1beaea4507e5",
   "metadata": {},
   "source": [
    "# City-wise Analysis "
   ]
  },
  {
   "cell_type": "code",
   "execution_count": 34,
   "id": "afeb2dc6-ac2f-4ef1-abcf-2e4d98013878",
   "metadata": {},
   "outputs": [
    {
     "data": {
      "text/html": [
       "<div>\n",
       "<style scoped>\n",
       "    .dataframe tbody tr th:only-of-type {\n",
       "        vertical-align: middle;\n",
       "    }\n",
       "\n",
       "    .dataframe tbody tr th {\n",
       "        vertical-align: top;\n",
       "    }\n",
       "\n",
       "    .dataframe thead th {\n",
       "        text-align: right;\n",
       "    }\n",
       "</style>\n",
       "<table border=\"1\" class=\"dataframe\">\n",
       "  <thead>\n",
       "    <tr style=\"text-align: right;\">\n",
       "      <th></th>\n",
       "      <th>Jan</th>\n",
       "      <th>Feb</th>\n",
       "      <th>Mar</th>\n",
       "      <th>Apr</th>\n",
       "    </tr>\n",
       "    <tr>\n",
       "      <th>city</th>\n",
       "      <th></th>\n",
       "      <th></th>\n",
       "      <th></th>\n",
       "      <th></th>\n",
       "    </tr>\n",
       "  </thead>\n",
       "  <tbody>\n",
       "    <tr>\n",
       "      <th>Arizona</th>\n",
       "      <td>341</td>\n",
       "      <td>336</td>\n",
       "      <td>320</td>\n",
       "      <td>329</td>\n",
       "    </tr>\n",
       "    <tr>\n",
       "      <th>California</th>\n",
       "      <td>634</td>\n",
       "      <td>668</td>\n",
       "      <td>629</td>\n",
       "      <td>601</td>\n",
       "    </tr>\n",
       "    <tr>\n",
       "      <th>Texas</th>\n",
       "      <td>471</td>\n",
       "      <td>505</td>\n",
       "      <td>507</td>\n",
       "      <td>527</td>\n",
       "    </tr>\n",
       "  </tbody>\n",
       "</table>\n",
       "</div>"
      ],
      "text/plain": [
       "            Jan  Feb  Mar  Apr\n",
       "city                          \n",
       "Arizona     341  336  320  329\n",
       "California  634  668  629  601\n",
       "Texas       471  505  507  527"
      ]
     },
     "execution_count": 34,
     "metadata": {},
     "output_type": "execute_result"
    }
   ],
   "source": [
    "# Calculate total sales for each city across the specified months\n",
    "city_monthly_sales = sales_df.groupby('city')[months].sum()\n",
    "city_monthly_sales"
   ]
  },
  {
   "cell_type": "code",
   "execution_count": 35,
   "id": "6ff7bef6-9a03-4446-9b86-4ac23bc6027a",
   "metadata": {},
   "outputs": [
    {
     "name": "stdout",
     "output_type": "stream",
     "text": [
      "Average Monthly Sales per City:\n",
      "                  Jan        Feb        Mar        Apr        May        Jun  \\\n",
      "city                                                                           \n",
      "Arizona     15.500000  15.272727  14.545455  14.954545  14.090909  15.090909   \n",
      "California  14.744186  15.534884  14.627907  13.976744  13.255814  13.697674   \n",
      "Texas       13.457143  14.428571  14.485714  15.057143  13.600000  13.114286   \n",
      "\n",
      "                 July        Aug        Sep        Oct        Nov        Dec  \n",
      "city                                                                          \n",
      "Arizona     14.636364  15.500000  15.318182  14.954545  16.409091  13.318182  \n",
      "California  14.813953  16.232558  14.883721  14.279070  15.279070  13.604651  \n",
      "Texas       13.685714  15.485714  14.685714  13.342857  14.657143  13.685714  \n"
     ]
    }
   ],
   "source": [
    "monthly_sales_cols = ['Jan', 'Feb', 'Mar', 'Apr', 'May', 'Jun', 'July', 'Aug', 'Sep', 'Oct', 'Nov', 'Dec']\n",
    "average_monthly_sales_per_city = sales_df.groupby('city')[monthly_sales_cols].mean()\n",
    "print(average_monthly_sales_per_city)"
   ]
  },
  {
   "cell_type": "code",
   "execution_count": 42,
   "id": "47a469f2-f968-40fd-9d09-eaa2a95f6852",
   "metadata": {},
   "outputs": [
    {
     "name": "stdout",
     "output_type": "stream",
     "text": [
      "Arizona\n",
      "The highest average yearly sales value is: 179.59\n",
      "city\n",
      "Arizona       179.590909\n",
      "California    174.930233\n",
      "Texas         169.685714\n",
      "Name: Total_Sales_Yearly, dtype: float64\n"
     ]
    }
   ],
   "source": [
    "yearly_sales = sales_df.loc[:, 'Jan':'Dec'].sum(axis=1)\n",
    "\n",
    "average_yearly_sales_per_city = yearly_sales.groupby(sales_df['city']).mean()\n",
    "\n",
    "city_with_highest_average_sales = average_yearly_sales_per_city.idxmax()\n",
    "highest_average_sales_value = average_yearly_sales_per_city.max()\n",
    "\n",
    "print(f\"The city with the highest average yearly sales is: {city_with_highest_average_sales}\")\n",
    "print(f\"The highest average yearly sales value is: {highest_average_sales_value:.2f}\")"
   ]
  },
  {
   "cell_type": "code",
   "execution_count": 44,
   "id": "af7eafee-75b6-43a4-9e34-3be83a2da8cc",
   "metadata": {},
   "outputs": [
    {
     "name": "stdout",
     "output_type": "stream",
     "text": [
      "  store_id        city  Jan  Feb  Mar  Apr  Total_Sales\n",
      "0      S_1       Texas    8   20   13   21           62\n",
      "1      S_2  California   12   19   15   15           61\n",
      "2      S_3  California   16   16   14   19           65\n",
      "3      S_4       Texas    8   18   13   10           49\n",
      "4      S_5       Texas   19    5   24    9           57\n"
     ]
    }
   ],
   "source": [
    "sales_df['Total_Sales'] = sales_df['Jan'] + sales_df['Feb'] + sales_df['Mar'] + sales_df['Apr']\n",
    "print(sales_df[['store_id', 'city', 'Jan', 'Feb', 'Mar', 'Apr', 'Total_Sales']].head())"
   ]
  },
  {
   "cell_type": "code",
   "execution_count": 47,
   "id": "dcb9d4ba-9463-41a4-b871-acc0d8375f33",
   "metadata": {},
   "outputs": [
    {
     "name": "stdout",
     "output_type": "stream",
     "text": [
      "city\n",
      "California    2532\n",
      "Texas         2010\n",
      "Arizona       1326\n",
      "Name: Total_Sales, dtype: int64\n"
     ]
    }
   ],
   "source": [
    "sales_df['Total_Sales'] = sales_df['Jan'] + sales_df['Feb'] + sales_df['Mar'] + sales_df['Apr']\n",
    "\n",
    "top_3_cities = (\n",
    "    sales_df.groupby('city')['Total_Sales']\n",
    "    .sum()\n",
    "    .sort_values(ascending=False)\n",
    "    .head(3)\n",
    ")\n",
    "\n",
    "print(top_3_cities)"
   ]
  },
  {
   "cell_type": "markdown",
   "id": "ddb7681f-19b5-4264-b204-0955fa7ed5c1",
   "metadata": {},
   "source": [
    "# Store-level Insights\n"
   ]
  },
  {
   "cell_type": "code",
   "execution_count": 49,
   "id": "7f0065dd-dc67-428f-bf32-92ab9637cd51",
   "metadata": {},
   "outputs": [
    {
     "name": "stdout",
     "output_type": "stream",
     "text": [
      "   store_id        city  Total_Sales\n",
      "72     S_73  California           86\n",
      "77     S_78     Arizona           85\n",
      "69     S_70       Texas           84\n",
      "26     S_27  California           80\n",
      "85     S_86  California           80\n"
     ]
    }
   ],
   "source": [
    "sales_df['Total_Sales'] = sales_df['Jan'] + sales_df['Feb'] + sales_df['Mar'] + sales_df['Apr']\n",
    "\n",
    "sorted_sales_df = sales_df.sort_values(by='Total_Sales', ascending=False)\n",
    "\n",
    "top_5_stores = sorted_sales_df.head(5)\n",
    "\n",
    "result = top_5_stores[['store_id', 'city', 'Total_Sales']]\n",
    "\n",
    "print(result)\n"
   ]
  },
  {
   "cell_type": "code",
   "execution_count": 50,
   "id": "988bbe37-09ee-42fe-bc56-9b51120da0c0",
   "metadata": {},
   "outputs": [
    {
     "name": "stdout",
     "output_type": "stream",
     "text": [
      "   store_id        city  Total_Sales\n",
      "90     S_91       Texas           33\n",
      "18     S_19  California           38\n",
      "82     S_83  California           39\n",
      "21     S_22       Texas           39\n",
      "96     S_97  California           41\n"
     ]
    }
   ],
   "source": [
    "sales_df['Total_Sales'] = sales_df['Jan'] + sales_df['Feb'] + sales_df['Mar'] + sales_df['Apr']\n",
    "\n",
    "sorted_sales_df = sales_df.sort_values(by='Total_Sales', ascending=True)\n",
    "\n",
    "bottom_5_stores = sorted_sales_df.head(5)\n",
    "\n",
    "result = bottom_5_stores[['store_id', 'city', 'Total_Sales']]\n",
    "print(result)\n"
   ]
  },
  {
   "cell_type": "code",
   "execution_count": 51,
   "id": "009d1e73-9d64-4284-bcd6-da90f438b7da",
   "metadata": {},
   "outputs": [
    {
     "name": "stdout",
     "output_type": "stream",
     "text": [
      "store_id      S_5\n",
      "city        Texas\n",
      "Mar            24\n",
      "Name: 4, dtype: object\n"
     ]
    }
   ],
   "source": [
    "max_sales_march_row = sales_df.loc[sales_df['Mar'].idxmax()]\n",
    "\n",
    "result = max_sales_march_row[['store_id', 'city', 'Mar']]\n",
    "\n",
    "print(result)\n"
   ]
  },
  {
   "cell_type": "code",
   "execution_count": 52,
   "id": "9d4a7b12-6328-4e2a-857f-c59fb6e86b32",
   "metadata": {},
   "outputs": [
    {
     "name": "stdout",
     "output_type": "stream",
     "text": [
      "store_id       S_32\n",
      "city        Arizona\n",
      "Apr               5\n",
      "Name: 31, dtype: object\n"
     ]
    }
   ],
   "source": [
    "min_sales_april_row = sales_df.loc[sales_df['Apr'].idxmin()]\n",
    "\n",
    "result = min_sales_april_row[['store_id', 'city', 'Apr']]\n",
    "print(result)\n"
   ]
  },
  {
   "cell_type": "code",
   "execution_count": 53,
   "id": "7bf2a2d7-3a5d-48ed-aba2-f7c4ec875596",
   "metadata": {},
   "outputs": [
    {
     "name": "stdout",
     "output_type": "stream",
     "text": [
      "city\n",
      "Arizona       13\n",
      "California    13\n",
      "Texas          9\n",
      "dtype: int64\n"
     ]
    }
   ],
   "source": [
    "months = ['Jan', 'Feb', 'Mar', 'Apr', 'May', 'Jun', 'July', 'Aug', 'Sep', 'Oct', 'Nov', 'Dec']\n",
    "\n",
    "sales_df['Avg_Monthly_Sales'] = sales_df[months].mean(axis=1)\n",
    "\n",
    "filtered_stores = sales_df[sales_df['Avg_Monthly_Sales'] > 15]\n",
    "\n",
    "city_counts = filtered_stores.groupby('city').size()\n",
    "\n",
    "print(city_counts)\n"
   ]
  },
  {
   "cell_type": "code",
   "execution_count": 54,
   "id": "176619d2-1adb-4530-add0-9d95024cd717",
   "metadata": {},
   "outputs": [
    {
     "name": "stdout",
     "output_type": "stream",
     "text": [
      "   store_id        city  Jan  Feb  Mar  Apr  May  Jun  July  Aug  Sep  Oct  \\\n",
      "1       S_2  California   12   19   15   15   11   19     7   15   10   11   \n",
      "2       S_3  California   16   16   14   19   23    6    13   13   15   14   \n",
      "5       S_6  California   14   21   18   20   21    5    18   24    7   12   \n",
      "7       S_8  California   15    8    5   15   12   21    17   19   13    6   \n",
      "9      S_10  California   14   23   20   11   12   13    19    6    5   22   \n",
      "11     S_12  California    6   18   21    8    5    8    11    9   21   17   \n",
      "15     S_16  California   18    9    8    9   21    7    19   18   21    7   \n",
      "16     S_17  California   13    8    7   22   21   24    18    5   24   18   \n",
      "18     S_19  California    7    6   17    8   21   11    20    9   11   22   \n",
      "19     S_20  California   11   21   20    6    5   24    14   23   19   10   \n",
      "23     S_24  California    5   17   19   19   19   14    18   23   23    5   \n",
      "25     S_26  California   24   11   16   11   13   14    10   15    7   15   \n",
      "26     S_27  California   24   19   13   24    8   12     6   21   10   10   \n",
      "27     S_28  California   10   15   24   21    9   22    10   19   13   18   \n",
      "28     S_29  California   15    8   10   16   12   10    21   21    7   13   \n",
      "30     S_31  California   14   19    6   15   24   13    14   23   13   24   \n",
      "34     S_35  California   10    7   24   15   12   24    12   17   10   14   \n",
      "36     S_37  California   24   16    9    6    6   22     6    8   24    6   \n",
      "37     S_38  California   21   10   13   11   11   14    24   24   24   21   \n",
      "44     S_45  California   19   17    9   17    8    8    16    5   21   20   \n",
      "48     S_49  California   22   22   10   11   17   13    18   11   12   20   \n",
      "58     S_59  California   15   13   20    8    7   12    15    8   24    9   \n",
      "59     S_60  California    6   21   22    8    6   17    21   12   14   15   \n",
      "61     S_62  California   16   21    6   22   22    9    21   21   22   17   \n",
      "63     S_64  California   12   18    9   19    5    7    22   23   19    6   \n",
      "67     S_68  California   23   15   16   14    8   12    10   21   10    7   \n",
      "72     S_73  California   20   24   24   18    7   22    12   21   20   18   \n",
      "73     S_74  California   20   17   14    5   22    9    18   24   11   10   \n",
      "76     S_77  California    9   18   10   15   14   14    16    5   24   11   \n",
      "80     S_81  California   22    9   20   12    6   20     8   16   15   14   \n",
      "82     S_83  California   16    5    6   12   20   21    17    6   12    9   \n",
      "83     S_84  California   13   12   12    5    7   16    12   21   20   19   \n",
      "85     S_86  California   15   23   24   18   21   17    23   13   12   11   \n",
      "89     S_90  California    8   23   21   14   15    6     5   14   23    8   \n",
      "91     S_92  California   14   16   17   13   13   10    17   23    7   23   \n",
      "92     S_93  California   20   13   15   12   15   19    21   22   10   21   \n",
      "93     S_94  California   19   18   14   21    5    7     8   21   11   21   \n",
      "94     S_95  California   10   22   13   20    5    5     9   15   23   23   \n",
      "96     S_97  California   13    6    7   15   22   10    21   23   10    6   \n",
      "99    S_100  California    5   23   17   24   15   21    19   10   12   20   \n",
      "\n",
      "    Nov  Dec  \n",
      "1    21   19  \n",
      "2    24    8  \n",
      "5    11    5  \n",
      "7    24   15  \n",
      "9    17   16  \n",
      "11   18   22  \n",
      "15    7   23  \n",
      "16   12   17  \n",
      "18   21    8  \n",
      "19   21   22  \n",
      "23   16    5  \n",
      "25    5    8  \n",
      "26   12   20  \n",
      "27   24    6  \n",
      "28    8    5  \n",
      "30   10    9  \n",
      "34    5   18  \n",
      "36    5   11  \n",
      "37   16   18  \n",
      "44   12   24  \n",
      "48   12    9  \n",
      "58   21    6  \n",
      "59   10   15  \n",
      "61   16   21  \n",
      "63   15   17  \n",
      "67   24   17  \n",
      "72   21    6  \n",
      "73   20   19  \n",
      "76   18   17  \n",
      "80   24   10  \n",
      "82   22   15  \n",
      "83   22   13  \n",
      "85   24   13  \n",
      "89    5   21  \n",
      "91   10   22  \n",
      "92   23   13  \n",
      "93   15    7  \n",
      "94   24    7  \n",
      "96   12    9  \n",
      "99    5    9  \n"
     ]
    }
   ],
   "source": [
    "months = ['Jan', 'Feb', 'Mar', 'Apr', 'May', 'Jun', 'July', 'Aug', 'Sep', 'Oct', 'Nov', 'Dec']\n",
    "california_sales_gt_20 = sales_df[(sales_df['city'] == 'California') & (sales_df[months].gt(20).any(axis=1))]\n",
    "\n",
    "print(california_sales_gt_20[['store_id', 'city'] + months])\n"
   ]
  },
  {
   "cell_type": "code",
   "execution_count": null,
   "id": "68d4cf1c-a1c1-49e8-889f-f50e8bd2f68b",
   "metadata": {},
   "outputs": [],
   "source": []
  }
 ],
 "metadata": {
  "kernelspec": {
   "display_name": "Python 3 (ipykernel)",
   "language": "python",
   "name": "python3"
  },
  "language_info": {
   "codemirror_mode": {
    "name": "ipython",
    "version": 3
   },
   "file_extension": ".py",
   "mimetype": "text/x-python",
   "name": "python",
   "nbconvert_exporter": "python",
   "pygments_lexer": "ipython3",
   "version": "3.13.5"
  }
 },
 "nbformat": 4,
 "nbformat_minor": 5
}
