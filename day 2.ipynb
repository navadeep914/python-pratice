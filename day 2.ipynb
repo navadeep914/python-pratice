{
 "cells": [
  {
   "cell_type": "code",
   "execution_count": 1,
   "id": "ac34cae2-9818-4cb4-9c24-3e10401c690f",
   "metadata": {},
   "outputs": [
    {
     "name": "stdout",
     "output_type": "stream",
     "text": [
      "Requirement already satisfied: numpy in c:\\users\\narra\\anaconda3\\lib\\site-packages (2.1.3)\n",
      "Note: you may need to restart the kernel to use updated packages.\n"
     ]
    }
   ],
   "source": [
    "pip install numpy"
   ]
  },
  {
   "cell_type": "code",
   "execution_count": null,
   "id": "86f2d83c-bb18-49f3-81f7-45116a7f3237",
   "metadata": {},
   "outputs": [],
   "source": [
    "numpy\n",
    "NumPy is a Python library for efficient numerical computing and handling multidimensional arrays.\n",
    "    It allows fast mathematical operations, linear algebra, and statistics on large datasets.\n",
    "    "
   ]
  },
  {
   "cell_type": "code",
   "execution_count": 3,
   "id": "33e85c8b-9acf-4ec7-8cc6-c022a385a771",
   "metadata": {},
   "outputs": [],
   "source": [
    "import numpy as np"
   ]
  },
  {
   "cell_type": "code",
   "execution_count": 6,
   "id": "0207d313-9c72-4109-895e-87112a35f429",
   "metadata": {},
   "outputs": [
    {
     "data": {
      "text/plain": [
       "array([1, 2, 3, 4])"
      ]
     },
     "execution_count": 6,
     "metadata": {},
     "output_type": "execute_result"
    }
   ],
   "source": [
    "arr1=np.array([1,2,3,4])\n",
    "arr1"
   ]
  },
  {
   "cell_type": "code",
   "execution_count": 7,
   "id": "aaf87e74-77df-4d3e-ad47-f43ce42ec1ef",
   "metadata": {},
   "outputs": [
    {
     "data": {
      "text/plain": [
       "numpy.ndarray"
      ]
     },
     "execution_count": 7,
     "metadata": {},
     "output_type": "execute_result"
    }
   ],
   "source": [
    "type(arr1)"
   ]
  },
  {
   "cell_type": "code",
   "execution_count": 9,
   "id": "c360345e-c90a-4faa-9b70-0efc0db4d60e",
   "metadata": {},
   "outputs": [
    {
     "data": {
      "text/plain": [
       "1"
      ]
     },
     "execution_count": 9,
     "metadata": {},
     "output_type": "execute_result"
    }
   ],
   "source": [
    "arr1.ndim"
   ]
  },
  {
   "cell_type": "code",
   "execution_count": 10,
   "id": "56ee1eb3-efcf-4c92-bf21-b2aa0332571b",
   "metadata": {},
   "outputs": [
    {
     "data": {
      "text/plain": [
       "4"
      ]
     },
     "execution_count": 10,
     "metadata": {},
     "output_type": "execute_result"
    }
   ],
   "source": [
    "arr1.size"
   ]
  },
  {
   "cell_type": "code",
   "execution_count": 11,
   "id": "f5a91c10-ce46-47fc-ac71-70e76124c068",
   "metadata": {},
   "outputs": [
    {
     "data": {
      "text/plain": [
       "(4,)"
      ]
     },
     "execution_count": 11,
     "metadata": {},
     "output_type": "execute_result"
    }
   ],
   "source": [
    "arr1.shape"
   ]
  },
  {
   "cell_type": "code",
   "execution_count": 12,
   "id": "3d141539-bf8d-4491-99c1-083a93b2c4d0",
   "metadata": {},
   "outputs": [
    {
     "data": {
      "text/plain": [
       "[[1, 2, 3, 4], [5, 6, 7, 8], [9, 1, 2, 3]]"
      ]
     },
     "execution_count": 12,
     "metadata": {},
     "output_type": "execute_result"
    }
   ],
   "source": [
    "my_m=[[1,2,3,4],[5,6,7,8],[9,1,2,3]]\n",
    "my_m"
   ]
  },
  {
   "cell_type": "code",
   "execution_count": 13,
   "id": "74153969-b2a5-4814-aee4-71c21e173c5c",
   "metadata": {},
   "outputs": [
    {
     "data": {
      "text/plain": [
       "array([[1, 2, 3, 4],\n",
       "       [5, 6, 7, 8],\n",
       "       [9, 1, 2, 3]])"
      ]
     },
     "execution_count": 13,
     "metadata": {},
     "output_type": "execute_result"
    }
   ],
   "source": [
    "b=np.array(my_m)\n",
    "b"
   ]
  },
  {
   "cell_type": "code",
   "execution_count": 14,
   "id": "706d80b4-a4d9-49d0-b60c-dbf9700b85b5",
   "metadata": {},
   "outputs": [
    {
     "data": {
      "text/plain": [
       "2"
      ]
     },
     "execution_count": 14,
     "metadata": {},
     "output_type": "execute_result"
    }
   ],
   "source": [
    "b.ndim"
   ]
  },
  {
   "cell_type": "code",
   "execution_count": 15,
   "id": "21e2a21b-139f-4c3a-83fe-29fcee7e5abc",
   "metadata": {},
   "outputs": [
    {
     "data": {
      "text/plain": [
       "(3, 4)"
      ]
     },
     "execution_count": 15,
     "metadata": {},
     "output_type": "execute_result"
    }
   ],
   "source": [
    "b.shape"
   ]
  },
  {
   "cell_type": "code",
   "execution_count": 16,
   "id": "125069a2-2fb8-45fd-a2eb-8f72f94a53e1",
   "metadata": {},
   "outputs": [
    {
     "data": {
      "text/plain": [
       "12"
      ]
     },
     "execution_count": 16,
     "metadata": {},
     "output_type": "execute_result"
    }
   ],
   "source": [
    "b.size"
   ]
  },
  {
   "cell_type": "code",
   "execution_count": 22,
   "id": "e3a4775f-0f0f-4d10-a60e-0ba3f9b896cd",
   "metadata": {},
   "outputs": [
    {
     "name": "stdout",
     "output_type": "stream",
     "text": [
      "int8 array: [1 2 3]\n",
      "int16 array: [ 1000 -2000 30001]\n",
      "int32 array: [-100000  200000  300000]\n",
      "int64 array: [ 10000000000 200000000001]\n"
     ]
    }
   ],
   "source": [
    "import numpy as np\n",
    "\n",
    "int8_arr = np.array([1, 2, 3], dtype=np.int8)\n",
    "int16_arr = np.array([1000, -2000, 30001], dtype=np.int16)\n",
    "int32_arr = np.array([-100000, 200000, 300000], dtype=np.int32)\n",
    "int64_arr = np.array([10000000000, 200000000001], dtype=np.int64)\n",
    "\n",
    "print(\"int8 array:\", int8_arr)\n",
    "print(\"int16 array:\", int16_arr)\n",
    "print(\"int32 array:\", int32_arr)\n",
    "print(\"int64 array:\", int64_arr)\n"
   ]
  },
  {
   "cell_type": "code",
   "execution_count": 32,
   "id": "45591cb9-d06b-4ff9-a729-77be1b8ef70d",
   "metadata": {},
   "outputs": [
    {
     "name": "stdout",
     "output_type": "stream",
     "text": [
      "float16 array: [ 1.1 -2.2  3.3]\n",
      "float32 array: [1.123456 2.654321]\n",
      "float64 array: [ 1.12345679 -2.98765432]\n",
      "complex64 array: [1.+2.j 3.+4.j]\n",
      "complex128 array: [1.+2.j 3.+4.j]\n",
      "boolean array: [ True False  True]\n"
     ]
    }
   ],
   "source": [
    "import numpy as np\n",
    "\n",
    "float16_arr = np.array([1.1, -2.2, 3.3], dtype=np.float16)\n",
    "float32_arr = np.array([1.123456, 2.654321], dtype=np.float32)\n",
    "float64_arr = np.array([1.123456789, -2.987654321], dtype=np.float64)\n",
    "\n",
    "complex64_arr = np.array([1+2j, 3+4j], dtype=np.complex64)\n",
    "complex128_arr = np.array([1+2j, 3+4j], dtype=np.complex128)\n",
    "\n",
    "bool_arr = np.array([True, False, True], dtype=bool)\n",
    "\n",
    "print(\"float16 array:\", float16_arr)\n",
    "print(\"float32 array:\", float32_arr)\n",
    "print(\"float64 array:\", float64_arr)\n",
    "print(\"complex64 array:\", complex64_arr)\n",
    "print(\"complex128 array:\", complex128_arr)\n",
    "print(\"boolean array:\", bool_arr)\n"
   ]
  },
  {
   "cell_type": "code",
   "execution_count": 29,
   "id": "003bf224-521a-4249-8f41-5062aa52b88b",
   "metadata": {},
   "outputs": [],
   "source": [
    "c64 = np.array([1+2j, 3+4j], dtype=np.complex64)\n",
    "c128 = np.array([1+2j, 3+4j], dtype=np.complex128)"
   ]
  },
  {
   "cell_type": "code",
   "execution_count": 30,
   "id": "9949f61f-6f6c-4799-a7a8-162556c765c2",
   "metadata": {},
   "outputs": [],
   "source": [
    "i8 = np.array([1, 2, 3], dtype=np.int8)\n",
    "i16 = np.array([1000, -2000, 30001], dtype=np.int16)\n",
    "i32 = np.array([-100000, 200000, 300000], dtype=np.int32)\n",
    "i64 = np.array([10000000000, 200000000001], dtype=np.int64)"
   ]
  },
  {
   "cell_type": "code",
   "execution_count": 31,
   "id": "f746c5bc-f33e-48b6-9419-6c2d84b6d23b",
   "metadata": {},
   "outputs": [],
   "source": [
    "u8 = np.array([0, 255, 100], dtype=np.uint8)\n",
    "u16 = np.array([1000, 60000], dtype=np.uint16)"
   ]
  },
  {
   "cell_type": "code",
   "execution_count": 33,
   "id": "6ebd37ff-affc-4f86-a761-9893e1fe35dc",
   "metadata": {},
   "outputs": [],
   "source": [
    "f16 = np.array([1.1, -2.2, 3.3], dtype=np.float16)\n",
    "f32 = np.array([1.123456, 2.6543211], dtype=np.float32)\n",
    "f64 = np.array([1.123456789, -2.987654321], dtype=np.float64)"
   ]
  },
  {
   "cell_type": "code",
   "execution_count": 34,
   "id": "575dba68-6b64-4555-9572-b55e0096b605",
   "metadata": {},
   "outputs": [
    {
     "name": "stdout",
     "output_type": "stream",
     "text": [
      "i8: [1 2 3]\n",
      "f32: [1.123456  2.6543212]\n",
      "c128: [1.+2.j 3.+4.j]\n",
      "bool_arr: [ True False  True]\n"
     ]
    }
   ],
   "source": [
    "bool_arr = np.array([True, False, True], dtype=bool)\n",
    "\n",
    "# Print examples\n",
    "print(\"i8:\", i8)\n",
    "print(\"f32:\", f32)\n",
    "print(\"c128:\", c128)\n",
    "print(\"bool_arr:\", bool_arr)"
   ]
  },
  {
   "cell_type": "code",
   "execution_count": null,
   "id": "c7c37ce3-5934-4114-9f27-a075c6f40686",
   "metadata": {},
   "outputs": [],
   "source": []
  }
 ],
 "metadata": {
  "kernelspec": {
   "display_name": "Python 3 (ipykernel)",
   "language": "python",
   "name": "python3"
  },
  "language_info": {
   "codemirror_mode": {
    "name": "ipython",
    "version": 3
   },
   "file_extension": ".py",
   "mimetype": "text/x-python",
   "name": "python",
   "nbconvert_exporter": "python",
   "pygments_lexer": "ipython3",
   "version": "3.13.5"
  }
 },
 "nbformat": 4,
 "nbformat_minor": 5
}
