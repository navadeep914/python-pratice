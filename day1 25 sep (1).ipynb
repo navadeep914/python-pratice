{
 "cells": [
  {
   "cell_type": "code",
   "execution_count": 1,
   "id": "a7aacf82-a842-4c68-afc1-9a64cd8f9cdc",
   "metadata": {},
   "outputs": [
    {
     "name": "stdin",
     "output_type": "stream",
     "text": [
      " 3\n"
     ]
    },
    {
     "name": "stdout",
     "output_type": "stream",
     "text": [
      "28.285714285714285\n"
     ]
    }
   ],
   "source": [
    "r=int(input())\n",
    "area=22/7*(r**2)\n",
    "print(area)"
   ]
  },
  {
   "cell_type": "code",
   "execution_count": 3,
   "id": "ac518ee9-4b0c-4f49-a881-71cc1463871c",
   "metadata": {},
   "outputs": [
    {
     "name": "stdin",
     "output_type": "stream",
     "text": [
      "Enter a string:  india\n"
     ]
    },
    {
     "name": "stdout",
     "output_type": "stream",
     "text": [
      "2\n"
     ]
    }
   ],
   "source": [
    "n = input(\"Enter a string: \")\n",
    "c = 0\n",
    "for i in n:\n",
    "    if i in \"AEIOUaeiou\":\n",
    "        c += 1\n",
    "print(c)\n"
   ]
  },
  {
   "cell_type": "code",
   "execution_count": 4,
   "id": "0c9cc200-0fd6-4d23-b884-219b96032c8b",
   "metadata": {},
   "outputs": [
    {
     "name": "stdin",
     "output_type": "stream",
     "text": [
      "Enter a string:  india\n"
     ]
    },
    {
     "name": "stdout",
     "output_type": "stream",
     "text": [
      "2\n"
     ]
    }
   ],
   "source": [
    "n = input(\"Enter a string: \")\n",
    "c = 0\n",
    "for i in n:\n",
    "    if i not in \"AEIOUaeiou\":\n",
    "        c += 1\n",
    "print(c)\n"
   ]
  },
  {
   "cell_type": "code",
   "execution_count": 5,
   "id": "88f0140d-62ce-4016-b9d1-f16a75416b21",
   "metadata": {},
   "outputs": [
    {
     "name": "stdin",
     "output_type": "stream",
     "text": [
      "Enter a string:  india\n"
     ]
    },
    {
     "name": "stdout",
     "output_type": "stream",
     "text": [
      "consonent 2\n",
      "vowels 3\n"
     ]
    }
   ],
   "source": [
    "n = input(\"Enter a string: \")\n",
    "c = 0\n",
    "c1=0\n",
    "for i in n:\n",
    "    if i not in \"AEIOUaeiou\":\n",
    "        c += 1\n",
    "    else:\n",
    "        c1+=1\n",
    "print(\"consonent\",c)\n",
    "print(\"vowels\",c1)\n"
   ]
  },
  {
   "cell_type": "code",
   "execution_count": 10,
   "id": "0c261f92-505d-4f34-ba6f-c2f8da61dfe8",
   "metadata": {},
   "outputs": [
    {
     "name": "stdin",
     "output_type": "stream",
     "text": [
      " 2\n",
      " 4 45\n"
     ]
    },
    {
     "name": "stdout",
     "output_type": "stream",
     "text": [
      "[4, 40]\n"
     ]
    }
   ],
   "source": [
    "n = int(input())\n",
    "l = list(map(int, input().split()))\n",
    "l1 = []\n",
    "for i in l:\n",
    "    if i % 5 == 0:\n",
    "        i = i - 5\n",
    "        l1.append(i)\n",
    "    else:\n",
    "        l1.append(i)\n",
    "print(l1)"
   ]
  },
  {
   "cell_type": "code",
   "execution_count": 15,
   "id": "b4601b15-9837-4840-88bc-e4abc942ee1b",
   "metadata": {},
   "outputs": [
    {
     "name": "stdin",
     "output_type": "stream",
     "text": [
      " 7\n",
      " 1 2 3 4 5 6 7\n"
     ]
    },
    {
     "name": "stdout",
     "output_type": "stream",
     "text": [
      "[1, 3, 5, 7]\n",
      "[2, 4, 6]\n"
     ]
    }
   ],
   "source": [
    "n = int(input())\n",
    "l = list(map(int, input().split()))\n",
    "l1 = []\n",
    "l2=[]\n",
    "for i in range (len(l)):\n",
    "    if i % 2 == 0:\n",
    "        l1.append(l[i])\n",
    "    else:\n",
    "        l2.append(l[i])\n",
    "print(l1)\n",
    "print(l2)"
   ]
  },
  {
   "cell_type": "code",
   "execution_count": 19,
   "id": "ad281425-374a-4f96-869e-5ce9c4e4ca36",
   "metadata": {},
   "outputs": [
    {
     "name": "stdin",
     "output_type": "stream",
     "text": [
      " 5\n",
      " 233 46 76 87 56\n"
     ]
    },
    {
     "name": "stdout",
     "output_type": "stream",
     "text": [
      "7\n",
      "3\n"
     ]
    }
   ],
   "source": [
    "n = int(input())\n",
    "l = list(map(int, input().split()))\n",
    "sum1 = 0\n",
    "sum2 = 0\n",
    "for i in range(len(l)):\n",
    "    if l[i] % 2 == 0:\n",
    "        sum1 += i\n",
    "    else:\n",
    "        sum2 += i \n",
    "print(sum1)\n",
    "print(sum2)\n"
   ]
  },
  {
   "cell_type": "code",
   "execution_count": 3,
   "id": "570eec99-e50b-45e7-bc16-2311707269f4",
   "metadata": {},
   "outputs": [
    {
     "name": "stdin",
     "output_type": "stream",
     "text": [
      "Enter words separated by commas:  mumbai,dubai,chinnei,india,dune\n",
      "Enter IDs separated by spaces:  34 56 345 213 45\n"
     ]
    },
    {
     "name": "stdout",
     "output_type": "stream",
     "text": [
      "[(34, 'dumbai'), (56, 'dubai'), (45, 'dune')]\n"
     ]
    }
   ],
   "source": [
    "words = input(\"Enter words separated by commas: \").split(\",\")\n",
    "ids = list(map(int, input(\"Enter IDs separated by spaces: \").split()))\n",
    "new = []\n",
    "for i, w in zip(ids, words):\n",
    "    nw = \"d\" + w[1:]\n",
    "    new.append((i, nw)) \n",
    "filtered = [item for item in new if item[0] < 100]\n",
    "print(filtered)\n"
   ]
  },
  {
   "cell_type": "code",
   "execution_count": 4,
   "id": "56ea9e46-9f0c-4a8d-86d6-cd6e03d01e37",
   "metadata": {},
   "outputs": [
    {
     "name": "stdin",
     "output_type": "stream",
     "text": [
      " 2\n"
     ]
    },
    {
     "name": "stdout",
     "output_type": "stream",
     "text": [
      "12.571428571428571\n"
     ]
    }
   ],
   "source": [
    "def area(r):\n",
    "    return 22/7*(r**2)\n",
    "x=int(input())\n",
    "a=area(x)\n",
    "print(a)"
   ]
  },
  {
   "cell_type": "code",
   "execution_count": 5,
   "id": "b366c18f-b4d7-4580-b013-d0e17bc35727",
   "metadata": {},
   "outputs": [
    {
     "name": "stdin",
     "output_type": "stream",
     "text": [
      "Enter a string:  india\n"
     ]
    },
    {
     "name": "stdout",
     "output_type": "stream",
     "text": [
      "3\n"
     ]
    }
   ],
   "source": [
    "def count_vowels(s):\n",
    "    c = 0\n",
    "    for i in s:\n",
    "        if i in \"AEIOUaeiou\":\n",
    "            c += 1\n",
    "    return c\n",
    "n = input(\"Enter a string: \")\n",
    "print(count_vowels(n))"
   ]
  },
  {
   "cell_type": "code",
   "execution_count": 7,
   "id": "ee969297-90fa-48d7-8df5-7f315a902756",
   "metadata": {},
   "outputs": [
    {
     "name": "stdin",
     "output_type": "stream",
     "text": [
      "Enter a string:  india\n"
     ]
    },
    {
     "name": "stdout",
     "output_type": "stream",
     "text": [
      "2\n"
     ]
    }
   ],
   "source": [
    "def consonents(s):\n",
    "    c = 0\n",
    "    for i in s:\n",
    "        if i not in \"AEIOUaeiou\":\n",
    "            c += 1\n",
    "    return c\n",
    "n = input(\"Enter a string: \")\n",
    "print(consonents(n))\n"
   ]
  },
  {
   "cell_type": "code",
   "execution_count": 9,
   "id": "ee4e367a-ade9-4069-adb6-9fa42c056e37",
   "metadata": {},
   "outputs": [
    {
     "name": "stdin",
     "output_type": "stream",
     "text": [
      "Enter a string:  india\n"
     ]
    },
    {
     "name": "stdout",
     "output_type": "stream",
     "text": [
      "Consonants: 2\n",
      "Vowels: 3\n"
     ]
    }
   ],
   "source": [
    "def count(s):\n",
    "    c = 0  \n",
    "    c1 = 0  # consonants count\n",
    "    for i in s:\n",
    "        if i in \"AEIOUaeiou\":\n",
    "            c += 1\n",
    "        elif i.isalpha():\n",
    "            c1 += 1\n",
    "    return c, c1\n",
    "\n",
    "n = input(\"Enter a string: \")\n",
    "vowels, consonants = count(n)\n",
    "print(\"Consonants:\", consonants)\n",
    "print(\"Vowels:\", vowels)\n"
   ]
  },
  {
   "cell_type": "markdown",
   "id": "f5befdf4-8a4f-49bb-a92f-41e75168aa66",
   "metadata": {},
   "source": [
    "###### def adjust_multiples_of_5(numbers):\n",
    "    result = []\n",
    "    for i in numbers:\n",
    "        if i % 5 == 0:\n",
    "            result.append(i - 5)\n",
    "        else:\n",
    "            result.append(i)\n",
    "    return result\n",
    "n = int(input(\"Enter the number of elements: \"))\n",
    "l = list(map(int, input(\"Enter the list elements separated by spaces: \").split()))\n",
    "adjusted_list = adjust_multiples_of_5(l)\n",
    "print(adjusted_list)\n"
   ]
  },
  {
   "cell_type": "code",
   "execution_count": null,
   "id": "62db3889-3c9b-46c3-a850-fd1ebe002a31",
   "metadata": {},
   "outputs": [],
   "source": []
  }
 ],
 "metadata": {
  "kernelspec": {
   "display_name": "Python 3 (ipykernel)",
   "language": "python",
   "name": "python3"
  },
  "language_info": {
   "codemirror_mode": {
    "name": "ipython",
    "version": 3
   },
   "file_extension": ".py",
   "mimetype": "text/x-python",
   "name": "python",
   "nbconvert_exporter": "python",
   "pygments_lexer": "ipython3",
   "version": "3.13.5"
  }
 },
 "nbformat": 4,
 "nbformat_minor": 5
}
